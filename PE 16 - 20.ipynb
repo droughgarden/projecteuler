{
 "cells": [
  {
   "cell_type": "markdown",
   "metadata": {},
   "source": [
    "### [Problem 16 - Power Digit Sum](https://projecteuler.net/problem=16)\n",
    "\n",
    "$ 2^{15} = 32768 $ and the sum of its digits is $ 3 + 2 + 7 + 6 + 8 = 26 $\n",
    "\n",
    "`What is the sum of the digits of the number 2^(1000)?`\n",
    "\n"
   ]
  },
  {
   "cell_type": "code",
   "execution_count": 16,
   "metadata": {
    "collapsed": true
   },
   "outputs": [],
   "source": [
    "def p16(input16):\n",
    "    '''\n",
    "    input: integer\n",
    "    output: sum of digits of input\n",
    "    VERY FAST\n",
    "    '''\n",
    "    sum15 = 0\n",
    "\n",
    "    for digit in str(input16):\n",
    "        sum15 += int(digit)\n",
    "#    print(2**1000)\n",
    "    print(sum15)"
   ]
  },
  {
   "cell_type": "code",
   "execution_count": 17,
   "metadata": {},
   "outputs": [
    {
     "name": "stdout",
     "output_type": "stream",
     "text": [
      "45\n"
     ]
    }
   ],
   "source": [
    "p16(123456789)"
   ]
  },
  {
   "cell_type": "markdown",
   "metadata": {},
   "source": [
    "### [Problem 17 - Power Digit Sum](https://projecteuler.net/problem=17)\n",
    "\n",
    "\n",
    "If the numbers 1 to 5 are written out in words: one, two, three, four, five, then there are 3 + 3 + 5 + 4 + 4 = 19 letters used in total.\n",
    "\n",
    "If all the numbers from 1 to 1000 (one thousand) inclusive were written out in words, how many letters would be used?\n",
    "\n",
    "\n",
    "NOTE: Do not count spaces or hyphens. For example, 342 (three hundred and forty-two) contains 23 letters and 115 (one hundred and fifteen) contains 20 letters. The use of \"and\" when writing out numbers is in compliance with British usage."
   ]
  },
  {
   "cell_type": "code",
   "execution_count": 282,
   "metadata": {
    "collapsed": true
   },
   "outputs": [],
   "source": [
    "def p17(inp17):\n",
    "    '''\n",
    "    In: \n",
    "    Out: \n",
    "    answer: 21124\n",
    "    '''\n",
    "    singles = {'0':0,'1':3,'2':3,'3':5,'4':4,'5':4,'6':3,'7':5,'8':5,'9':4}\n",
    "    teens = {'10':3,'11':6,'12':6,'13':8,'14':8,'15':7,'16':7,'17':9,'18':8,'19':8}\n",
    "    ten_mult = {'0':0,'1':3,'2':6, '3':6,'4':5,'5':5,'6':5,'7':7,'8':6,'9':6}\n",
    "    hundred = 7\n",
    "    thousand = 8\n",
    "    aanndd = 3\n",
    "    \n",
    "    number = int(inp17)\n",
    "    numlis = []\n",
    "    hund = 0\n",
    "    tens = 0\n",
    "    ones = 0\n",
    "    kid = ''\n",
    "    valsum = 0\n",
    "        \n",
    "    while number > 0:\n",
    "        numlis = [int(i) for i in str(number)]\n",
    "        \n",
    "        if len(numlis) > 2:                   # checking for hundreds\n",
    "            hund = numlis.pop(0)\n",
    "            valsum += (singles[str(hund)] + hundred)\n",
    "            \n",
    "        if len(numlis) > 1:\n",
    "            if numlis[0] == 1:                # looking for 11 to 19\n",
    "                kid = ''.join(list(map(str, numlis)))\n",
    "                valsum += (teens[kid])\n",
    "            else:                             # tens + ones gives a num between 20 and 99\n",
    "                tens = numlis[0]\n",
    "                ones = numlis[1]\n",
    "                valsum += ten_mult[str(tens)]\n",
    "                valsum += singles[str(ones)]\n",
    "        else:                                 # single digit\n",
    "            ones = numlis.pop(0)\n",
    "            valsum += singles[str(ones)]\n",
    "        \n",
    "        if number > 100 and number % 100 != 0:\n",
    "            valsum += aanndd\n",
    "            \n",
    "        number -= 1\n",
    "        \n",
    "#     if inp17 >= 1000:\n",
    "#         print('greater than 1000, add 11 for 1000')\n",
    "    \n",
    "    return valsum + len('one') + thousand\n",
    "\n",
    "    \n"
   ]
  },
  {
   "cell_type": "code",
   "execution_count": 284,
   "metadata": {},
   "outputs": [
    {
     "data": {
      "text/plain": [
       "21124"
      ]
     },
     "execution_count": 284,
     "metadata": {},
     "output_type": "execute_result"
    }
   ],
   "source": [
    "p17(999)"
   ]
  },
  {
   "cell_type": "code",
   "execution_count": 311,
   "metadata": {
    "collapsed": true
   },
   "outputs": [],
   "source": [
    "def p17b(inp17b):    # nested dictionaries\n",
    "\n",
    "    singles = {'0':0,'1':3,'2':3,'3':5,'4':4,'5':4,'6':3,'7':5,'8':5,'9':4}\n",
    "    teens = {'10':3,'11':6,'12':6,'13':8,'14':8,'15':7,'16':7,'17':9,'18':8,'19':8}\n",
    "    teensB = {'0':3,'1':6,'2':6,'3':8,'4':8,'5':7,'6':7,'7':9,'8':8,'9':8}\n",
    "    ten_mult = {'0':0,'1':3,'2':6, '3':6,'4':5,'5':5,'6':5,'7':7,'8':6,'9':6}\n",
    "    \n",
    "\n",
    "    \n",
    "    \n",
    "    str17 = str(inp17b)\n",
    "    dig17 = len(str17)\n",
    "    print(dig17,type(dig17))\n",
    "    last = ''\n",
    "    \n",
    "#     if dig17 % 3 < 1:                 ## covers the 100s and 100000s...\n",
    "#         last = str17[-2:]\n",
    "#         print('multiple of 3, last two =',last)\n",
    "#     elif dig17 % 3 < 2:                ## covers the ones, 1000s and 1000000s...\n",
    "#         if dig17 == 1:\n",
    "#             last = str17[::]\n",
    "#             print('single',last)\n",
    "#         else:\n",
    "#             last = str17[-2:]\n",
    "#             print('1 + 3x, last two =',last)\n",
    "#     else:                              ## covers the tens, 10000s, 10000000s...\n",
    "#         last = str17[-2:]\n",
    "#         print('2 + 3x, last two =',last)\n",
    "    "
   ]
  },
  {
   "cell_type": "code",
   "execution_count": 320,
   "metadata": {},
   "outputs": [
    {
     "name": "stdout",
     "output_type": "stream",
     "text": [
      "2 <class 'int'>\n",
      "2 + 3x, last two = 12\n",
      "8\n"
     ]
    }
   ],
   "source": [
    "p17b(12)\n"
   ]
  },
  {
   "cell_type": "code",
   "execution_count": 337,
   "metadata": {
    "collapsed": true
   },
   "outputs": [],
   "source": [
    "def p17c(pinpoint):    \n",
    "    \n",
    "    cen = {  '0':0, '1':3,  '2':3,  '3':5,  '4':4,  '5':4,  '6':3,  '7':5,  '8':5,  '9':4,\n",
    "            '10':3,'11':6, '12':6, '13':8, '14':8, '15':7, '16':7, '17':9, '18':8, '19':8,\n",
    "            '20':6,'21':9, '22':9, '23':11,'24':10,'25':10,'26':9, '27':11,'28':11,'29':10,\n",
    "            '30':6,'31':9, '32':9, '33':11,'34':10,'35':10,'36':9, '37':11,'38':11,'39':10,\n",
    "            '40':5,'41':8, '42':8, '43':10,'44':9, '45':9, '46':8, '47':10,'48':10,'49':9,\n",
    "            '50':5,'51':8, '52':8, '53':10,'54':9, '55':9, '56':8, '57':10,'58':10,'59':9,\n",
    "            '60':5,'61':8, '62':8, '63':10,'64':9, '65':9, '66':8, '67':10,'68':10,'69':9,\n",
    "            '70':7,'71':10,'72':10,'73':12,'74':11,'75':11,'76':10,'77':12,'78':12,'79':11,\n",
    "            '80':6,'81':9, '82':9, '83':11,'84':10,'85':10,'86':9, '87':11,'88':11,'89':10,\n",
    "            '90':6,'91':9, '92':9, '93':11,'94':10,'95':10,'96':9, '97':11,'98':11,'99':10  }\n",
    "\n",
    "    censum = 854\n",
    "    summa = 0\n",
    "    marker = pinpoint\n",
    "    while marker > 0:\n",
    "        summa += cen[str(marker)]\n",
    "        print(marker,summa)\n",
    "\n",
    "        marker -= 1\n",
    "\n",
    "#     print(cen[str(11)])\n",
    "    # print(list(cen.values()))\n"
   ]
  },
  {
   "cell_type": "code",
   "execution_count": 340,
   "metadata": {},
   "outputs": [
    {
     "name": "stdout",
     "output_type": "stream",
     "text": [
      "1 3\n"
     ]
    }
   ],
   "source": [
    "p17c(1)"
   ]
  },
  {
   "cell_type": "markdown",
   "metadata": {
    "collapsed": true
   },
   "source": [
    "$-b \\pm \\sqrt{b^2 - 4ac} \\over 2a$\n",
    "$x = a_0 + \\frac{1}{a_1 + \\frac{1}{a_2 + \\frac{1}{a_3 + a_4}}}$\n",
    "$\\forall x \\in X, \\quad \\exists y \\leq \\epsilon$\n",
    "\n",
    "---\n",
    "\n",
    "```python\n",
    "s = \"Python syntax highlighting\"\n",
    "print s\n",
    "```\n",
    "\n",
    "*** \n",
    "\n",
    "```\n",
    "No language indicated, so no syntax highlighting. \n",
    "But let's throw in a <b>tag</b>.\n",
    "```\n",
    "\n",
    "___\n",
    "\n",
    "\n",
    "Colons can be used to align columns.\n",
    "\n",
    "| Tables        | Are           | Cool  |\n",
    "| ------------- |:-------------:| -----:|\n",
    "| col 3 is      | right-aligned | $1600 |\n",
    "| col 2 is      | centered      |   $12 |\n",
    "| zebra stripes | are neat      |    $1 |\n",
    "\n",
    "There must be at least 3 dashes separating each header cell.\n",
    "The outer pipes (|) are optional, and you don't need to make the \n",
    "raw Markdown line up prettily. You can also use inline Markdown.\n",
    "\n",
    "Markdown | Less | Pretty\n",
    "--- | --- | ---\n",
    "*Still* | `renders` | **nicely**\n",
    "1 | 2 | 3"
   ]
  },
  {
   "cell_type": "markdown",
   "metadata": {},
   "source": [
    "# H1\n",
    "## H2\n",
    "### H3\n",
    "#### H4\n",
    "##### H5\n",
    "###### H6\n",
    "\n",
    "Alternatively, for H1 and H2, an underline-ish style:\n",
    "\n",
    "Alt-H1\n",
    "======\n",
    "\n",
    "Alt-H2\n",
    "------\n",
    "\n",
    "> Blockquotes are very handy in email to emulate reply text.\n",
    "> This line is part of the same quote.\n",
    "\n",
    "Quote break.\n",
    "\n",
    "> This is a very long line that will still be quoted properly when it wraps. Oh boy let's keep writing to make sure this is long enough to actually wrap for everyone. Oh, you can *put* **Markdown** into a blockquote. "
   ]
  },
  {
   "cell_type": "markdown",
   "metadata": {},
   "source": [
    "### $\\binom{n}{k}$"
   ]
  },
  {
   "cell_type": "code",
   "execution_count": null,
   "metadata": {
    "collapsed": true
   },
   "outputs": [],
   "source": []
  },
  {
   "cell_type": "code",
   "execution_count": null,
   "metadata": {
    "collapsed": true
   },
   "outputs": [],
   "source": []
  },
  {
   "cell_type": "markdown",
   "metadata": {},
   "source": [
    "### [Problem 19 - Counting Sundays](https://projecteuler.net/problem=19)\n",
    "\n",
    "You are given the following information, ~~but you may prefer to do some research for yourself.~~\n",
    "\n",
    "Thirty days has September,\n",
    "April, June and November.\n",
    "All the rest have thirty-one,\n",
    "Saving February alone,\n",
    "Which has twenty-eight, rain or shine.\n",
    "And on leap years, twenty-nine.\n",
    "\n",
    "+ **1 Jan 1900 was a Monday**\n",
    "+ A leap year occurs on any year evenly divisible by 4, but not on a century unless it is divisible by 400.\n",
    "\n",
    "`How many Sundays fell on the first of the month during the twentieth century (1 Jan 1901 to 31 Dec 2000)?`"
   ]
  },
  {
   "cell_type": "code",
   "execution_count": null,
   "metadata": {
    "collapsed": true
   },
   "outputs": [],
   "source": []
  },
  {
   "cell_type": "code",
   "execution_count": 486,
   "metadata": {
    "collapsed": true
   },
   "outputs": [],
   "source": [
    "def offsetter(year):\n",
    "    '''\n",
    "    In: year (int) > -10. Values below that will give inaccurate results unless you lower the base year\n",
    "    Out: offset integer for sunwakes function\n",
    "    '''\n",
    "    offset = 0\n",
    "    baseyear = -10\n",
    "    period = 28\n",
    "    indexmod = (year-baseyear) % period\n",
    "    indexday = {'0':1, '1':2, '2':3, '3':5, '4':6, '5':7, '6':1, '7':3, '8':4, '9':5, '10':6, '11':1, '12':2, '13':3, '14':4, '15':6, '16':7, '17':1, '18':2, '19':4, '20':5, '21':6, '22':7, '23':2, '24':3, '25':4, '26':5, '27':7}\n",
    "    dayoffset = {'1':0, '2':6, '3':5, '4':4, '5':3, '6':2, '7':1}\n",
    "    inday = indexday[str(indexmod)]\n",
    "    offset = dayoffset[str(inday)]\n",
    "    \n",
    "    return offset\n",
    "    \n",
    "########################################################################\n",
    "########################################################################\n",
    "\n",
    "def sunwakes(leap,offset):\n",
    "    '''\n",
    "    In: Boolean (True = leapyear 366 days, False = common year 365 days)\n",
    "    Out: interger, number of sundays on first of month\n",
    "    '''\n",
    "#     jan = 31\n",
    "#     feb = 28\n",
    "#     lfeb = 29\n",
    "#     mar = 31\n",
    "#     apr = 30\n",
    "#     may = 31\n",
    "#     jun = 30\n",
    "#     jul = 31\n",
    "#     aug = 31\n",
    "#     sep = 30\n",
    "#     octo = 31\n",
    "#     nov = 30\n",
    "#     dec = 31\n",
    "\n",
    "#     calendar = [jan,feb,mar,apr,may,jun,jul,aug,sep,octo,nov,dec]\n",
    "    monthlist = [31,28,31,30,31,30,31,31,30,31,30,31]\n",
    "    if leap == True:\n",
    "        monthlist[1] = 29\n",
    "    \n",
    "    days = 0\n",
    "    count = 0\n",
    "    sunwakes = 0 \n",
    "    datetuplist = []\n",
    "    for month in monthlist:\n",
    "        count += 1\n",
    "        if days % 7 == offset:\n",
    "            sunwakes += 1\n",
    "            datetuplist.append(count)\n",
    "        days += month  \n",
    "#     print(datetuplist)\n",
    "    return sunwakes\n",
    "\n",
    "########################################################################\n",
    "########################################################################\n",
    "########################################################################\n",
    "\n",
    "\n",
    "def p19(startyear,endyear):        #function will search through entire calendar year of range, inclusive\n",
    "#     yearmos = []\n",
    "    year = startyear\n",
    "    wakewake = 0\n",
    "#     off = 0\n",
    "#     isleap = False\n",
    "    while year <= endyear:\n",
    "        leap = False\n",
    "        if year % 400 == 0:\n",
    "            leap = True\n",
    "        elif year % 4 == 0:\n",
    "            if year % 100 == 0:\n",
    "                leap = False\n",
    "            else:\n",
    "                leap = True\n",
    "        else:\n",
    "            leap = False\n",
    "\n",
    "        off = offsetter(year)\n",
    "#         print(year,leap,off)\n",
    "        thisyear = sunwakes(leap,off)\n",
    "#         yearmos.append((year,thisyear))\n",
    "        wakewake += thisyear\n",
    "        year += 1\n",
    "#     print(yearmos)\n",
    "    return wakewake"
   ]
  },
  {
   "cell_type": "code",
   "execution_count": 487,
   "metadata": {},
   "outputs": [
    {
     "data": {
      "text/plain": [
       "171"
      ]
     },
     "execution_count": 487,
     "metadata": {},
     "output_type": "execute_result"
    }
   ],
   "source": [
    "p19(1901,2000)"
   ]
  },
  {
   "cell_type": "code",
   "execution_count": null,
   "metadata": {
    "collapsed": true
   },
   "outputs": [],
   "source": []
  },
  {
   "cell_type": "markdown",
   "metadata": {},
   "source": [
    "### [Problem 20 - Factorial Digit Sum](https://projecteuler.net/problem=20)\n",
    "\n",
    "n! means n × (n − 1) × ... × 3 × 2 × 1\n",
    "\n",
    "For example, 10! = 10 × 9 × ... × 3 × 2 × 1 = 3628800,\n",
    "and the sum of the digits in the number 10! is 3 + 6 + 2 + 8 + 8 + 0 + 0 = 27.\n",
    "\n",
    "`Find the sum of the digits in the number 100!`"
   ]
  },
  {
   "cell_type": "code",
   "execution_count": 119,
   "metadata": {
    "collapsed": true
   },
   "outputs": [],
   "source": [
    "def p20(inp20):\n",
    "    '''\n",
    "    In: \n",
    "    Out: \n",
    "    8.0 seconds for 100k (answer = 1938780)\n",
    "    29 min, 40 sec for 1m (ans = 23903442)\n",
    "    '''\n",
    "    from datetime import datetime\n",
    "    start=datetime.now()\n",
    "    \n",
    "    qwerty = range(2,inp20+1)\n",
    "    fact = 1\n",
    "    for num in qwerty:\n",
    "        fact *= num\n",
    "    \n",
    "    strfact = str(fact)\n",
    "    fsum = 0\n",
    "    for num in strfact:\n",
    "        fsum += int(num)\n",
    "        \n",
    "    print('time:',datetime.now()-start) \n",
    "    \n",
    "    return fsum\n",
    "    \n",
    "    \n",
    "    "
   ]
  },
  {
   "cell_type": "code",
   "execution_count": 120,
   "metadata": {},
   "outputs": [
    {
     "name": "stdout",
     "output_type": "stream",
     "text": [
      "time: 0:00:00\n"
     ]
    },
    {
     "data": {
      "text/plain": [
       "648"
      ]
     },
     "execution_count": 120,
     "metadata": {},
     "output_type": "execute_result"
    }
   ],
   "source": [
    "p20(100)"
   ]
  },
  {
   "cell_type": "code",
   "execution_count": null,
   "metadata": {
    "collapsed": true
   },
   "outputs": [],
   "source": []
  }
 ],
 "metadata": {
  "kernelspec": {
   "display_name": "Python 3",
   "language": "python",
   "name": "python3"
  },
  "language_info": {
   "codemirror_mode": {
    "name": "ipython",
    "version": 3
   },
   "file_extension": ".py",
   "mimetype": "text/x-python",
   "name": "python",
   "nbconvert_exporter": "python",
   "pygments_lexer": "ipython3",
   "version": "3.6.2"
  }
 },
 "nbformat": 4,
 "nbformat_minor": 2
}
