{
 "cells": [
  {
   "cell_type": "markdown",
   "metadata": {},
   "source": [
    "Problem 6 - Sum Square Difference"
   ]
  },
  {
   "cell_type": "markdown",
   "metadata": {},
   "source": [
    "The sum of the squares of the first ten natural numbers is,\n",
    "\n",
    "1sq + 2sq + ... + 10sq = 385\n",
    "The square of the sum of the first ten natural numbers is,\n",
    "\n",
    "(1 + 2 + ... + 10)^2 = 55^2 = 3025\n",
    "Hence the difference between the sum of the squares of the first ten natural numbers and the square of the sum is 3025 − 385 = 2640.\n",
    "\n",
    "Find the difference between the sum of the squares of the first one hundred natural numbers and the square of the sum."
   ]
  },
  {
   "cell_type": "code",
   "execution_count": 14,
   "metadata": {
    "collapsed": true
   },
   "outputs": [],
   "source": [
    "def p6(input6):\n",
    "\n",
    "    squares = []\n",
    "    for x in range(input6 + 1):\n",
    "        squares.append(x**2)\n",
    "    sumsq = 0\n",
    "    for i in squares:\n",
    "        sumsq += i\n",
    "# now return sumsq. for input=10, sumsq=385\n",
    "\n",
    "    sum6 = 0\n",
    "    for y in range(input6+1):\n",
    "        sum6 += y\n",
    "    return sum6**2 - sumsq    \n"
   ]
  },
  {
   "cell_type": "code",
   "execution_count": 16,
   "metadata": {},
   "outputs": [
    {
     "data": {
      "text/plain": [
       "25164150"
      ]
     },
     "execution_count": 16,
     "metadata": {},
     "output_type": "execute_result"
    }
   ],
   "source": [
    "p6(100)"
   ]
  },
  {
   "cell_type": "code",
   "execution_count": null,
   "metadata": {
    "collapsed": true
   },
   "outputs": [],
   "source": []
  },
  {
   "cell_type": "markdown",
   "metadata": {},
   "source": [
    "Problem 7 - 10001st prime"
   ]
  },
  {
   "cell_type": "markdown",
   "metadata": {},
   "source": [
    "By listing the first six prime numbers: 2, 3, 5, 7, 11, and 13, we can see that the 6th prime is 13.\n",
    "\n",
    "What is the 10 001st prime number?"
   ]
  },
  {
   "cell_type": "code",
   "execution_count": 65,
   "metadata": {
    "collapsed": true
   },
   "outputs": [],
   "source": [
    "def p7(input7):\n",
    "    '''\n",
    "    input: \n",
    "    output: \n",
    "    '''\n",
    "    import math\n",
    "    primes = []\n",
    "    for digit in range(2,input7):\n",
    "        root = int(math.sqrt(digit))\n",
    "        numbers = list(range(2,root+1))\n",
    "        for LCM in numbers:\n",
    "            if digit % LCM == 0:\n",
    "                break\n",
    "        else:\n",
    "            primes.append(digit)\n",
    "    print(str(len(primes))+' primes under '+str(input7))\n",
    "    print(str(primes[10000])+' is the 10001st prime')\n",
    "    print('these are the first 10 primes: ')\n",
    "    print(primes[0:10])    \n",
    "    print('these are the last 15 of your search: ')\n",
    "    print(primes[-15:])"
   ]
  },
  {
   "cell_type": "code",
   "execution_count": 70,
   "metadata": {},
   "outputs": [
    {
     "name": "stdout",
     "output_type": "stream",
     "text": [
      "17984 primes under 200000\n",
      "104743 is the 10001st prime\n",
      "these are the first 10 primes: \n",
      "[2, 3, 5, 7, 11, 13, 17, 19, 23, 29]\n",
      "these are the last 15 of your search: \n",
      "[199811, 199813, 199819, 199831, 199853, 199873, 199877, 199889, 199909, 199921, 199931, 199933, 199961, 199967, 199999]\n"
     ]
    }
   ],
   "source": [
    "p7(200000)"
   ]
  },
  {
   "cell_type": "code",
   "execution_count": 68,
   "metadata": {},
   "outputs": [
    {
     "name": "stdout",
     "output_type": "stream",
     "text": [
      "11734 primes under 125000\n",
      "104743 is the 10001st prime\n",
      "these are the first 10 primes: \n",
      "[2, 3, 5, 7, 11, 13, 17, 19, 23, 29]\n",
      "these are the last 15 of your search: \n",
      "[124793, 124799, 124819, 124823, 124847, 124853, 124897, 124907, 124909, 124919, 124951, 124979, 124981, 124987, 124991]\n"
     ]
    }
   ],
   "source": [
    "p7(125000)"
   ]
  },
  {
   "cell_type": "code",
   "execution_count": null,
   "metadata": {
    "collapsed": true
   },
   "outputs": [],
   "source": []
  },
  {
   "cell_type": "markdown",
   "metadata": {},
   "source": [
    "Problem 8 - Largest product in a series\n",
    "\n",
    "The four adjacent digits in the 1000-digit number that have the greatest product are 9 × 9 × 8 × 9 = 5832.\n",
    "\n",
    "73167176531330624919225119674426574742355349194934\n",
    "96983520312774506326239578318016984801869478851843\n",
    "85861560789112949495459501737958331952853208805511\n",
    "12540698747158523863050715693290963295227443043557\n",
    "66896648950445244523161731856403098711121722383113\n",
    "62229893423380308135336276614282806444486645238749\n",
    "30358907296290491560440772390713810515859307960866\n",
    "70172427121883998797908792274921901699720888093776\n",
    "65727333001053367881220235421809751254540594752243\n",
    "52584907711670556013604839586446706324415722155397\n",
    "53697817977846174064955149290862569321978468622482\n",
    "83972241375657056057490261407972968652414535100474\n",
    "82166370484403199890008895243450658541227588666881\n",
    "16427171479924442928230863465674813919123162824586\n",
    "17866458359124566529476545682848912883142607690042\n",
    "24219022671055626321111109370544217506941658960408\n",
    "07198403850962455444362981230987879927244284909188\n",
    "84580156166097919133875499200524063689912560717606\n",
    "05886116467109405077541002256983155200055935729725\n",
    "71636269561882670428252483600823257530420752963450\n",
    "\n",
    "Find the thirteen adjacent digits in the 1000-digit number that have the greatest product. What is the value of this product?"
   ]
  },
  {
   "cell_type": "code",
   "execution_count": 147,
   "metadata": {},
   "outputs": [
    {
     "name": "stdout",
     "output_type": "stream",
     "text": [
      "3761049\n"
     ]
    }
   ],
   "source": [
    "st8 = \"73167176531330624919225119674426574742355349194934\\\n",
    "96983520312774506326239578318016984801869478851843\\\n",
    "85861560789112949495459501737958331952853208805511\\\n",
    "12540698747158523863050715693290963295227443043557\\\n",
    "66896648950445244523161731856403098711121722383113\\\n",
    "62229893423380308135336276614282806444486645238749\\\n",
    "30358907296290491560440772390713810515859307960866\\\n",
    "70172427121883998797908792274921901699720888093776\\\n",
    "65727333001053367881220235421809751254540594752243\\\n",
    "52584907711670556013604839586446706324415722155397\\\n",
    "53697817977846174064955149290862569321978468622482\\\n",
    "83972241375657056057490261407972968652414535100474\\\n",
    "82166370484403199890008895243450658541227588666881\\\n",
    "16427171479924442928230863465674813919123162824586\\\n",
    "17866458359124566529476545682848912883142607690042\\\n",
    "24219022671055626321111109370544217506941658960408\\\n",
    "07198403850962455444362981230987879927244284909188\\\n",
    "84580156166097919133875499200524063689912560717606\\\n",
    "05886116467109405077541002256983155200055935729725\\\n",
    "71636269561882670428252483600823257530420752963450\"\n",
    "\n",
    "print(st8[1:20:3])"
   ]
  },
  {
   "cell_type": "code",
   "execution_count": 166,
   "metadata": {},
   "outputs": [
    {
     "name": "stdout",
     "output_type": "stream",
     "text": [
      "23514624000\n",
      "5576689664895 1000\n"
     ]
    }
   ],
   "source": [
    "\n",
    "prod8 = 1\n",
    "last = 13\n",
    "w = 0\n",
    "final = 1000\n",
    "thirteen = []\n",
    "\n",
    "while w < final:\n",
    "    product = 1\n",
    "    for bark in st8[w:last+w]:\n",
    "        product *= int(bark)\n",
    "    if product > prod8:\n",
    "        prod8 = product\n",
    "        thirteen = st8[w:last+w]\n",
    "\n",
    "    w += 1\n",
    "        \n",
    "    \n",
    "    \n",
    "print(prod8)\n",
    "print(thirteen,w)"
   ]
  },
  {
   "cell_type": "code",
   "execution_count": 162,
   "metadata": {},
   "outputs": [
    {
     "data": {
      "text/plain": [
       "5000940"
      ]
     },
     "execution_count": 162,
     "metadata": {},
     "output_type": "execute_result"
    }
   ],
   "source": [
    "8694788518438"
   ]
  },
  {
   "cell_type": "code",
   "execution_count": null,
   "metadata": {
    "collapsed": true
   },
   "outputs": [],
   "source": []
  },
  {
   "cell_type": "markdown",
   "metadata": {},
   "source": [
    "Problem 9 - Special Pythagorean triplet\n",
    "A Pythagorean triplet is a set of three natural numbers, a < b < c, for which,\n",
    "\n",
    "a2 + b2 = c2\n",
    "For example, 32 + 42 = 9 + 16 = 25 = 52.\n",
    "\n",
    "There exists exactly one Pythagorean triplet for which a + b + c = 1000.\n",
    "Find the product abc."
   ]
  },
  {
   "cell_type": "code",
   "execution_count": 124,
   "metadata": {
    "collapsed": true
   },
   "outputs": [],
   "source": [
    "\n",
    "def p9(input9):\n",
    "    \n",
    "\n",
    "    py_trips = []\n",
    "    for a in range(2,input9//2):\n",
    "        for b in range (2,input9//2):\n",
    "            c = ((a**2 + (b**2))**.5)\n",
    "            sumabc = a + b + c        \n",
    "    #        print(a,b,c,sumabc)\n",
    "            if sumabc == input9:\n",
    "                py_trips.append([a,b,c])\n",
    "    \n",
    "\n",
    "    return py_trips"
   ]
  },
  {
   "cell_type": "code",
   "execution_count": 125,
   "metadata": {},
   "outputs": [
    {
     "data": {
      "text/plain": [
       "[[200, 375, 425.0], [375, 200, 425.0]]"
      ]
     },
     "execution_count": 125,
     "metadata": {},
     "output_type": "execute_result"
    }
   ],
   "source": [
    "p9(1000)"
   ]
  },
  {
   "cell_type": "code",
   "execution_count": 126,
   "metadata": {},
   "outputs": [
    {
     "data": {
      "text/plain": [
       "31875000"
      ]
     },
     "execution_count": 126,
     "metadata": {},
     "output_type": "execute_result"
    }
   ],
   "source": [
    "375*200*425"
   ]
  },
  {
   "cell_type": "code",
   "execution_count": null,
   "metadata": {
    "collapsed": true
   },
   "outputs": [],
   "source": []
  },
  {
   "cell_type": "code",
   "execution_count": null,
   "metadata": {
    "collapsed": true
   },
   "outputs": [],
   "source": []
  },
  {
   "cell_type": "markdown",
   "metadata": {},
   "source": [
    "Problem 10 - Summation of primes\n",
    "The sum of the primes below 10 is 2 + 3 + 5 + 7 = 17.\n",
    "\n",
    "Find the sum of all the primes below two million."
   ]
  },
  {
   "cell_type": "code",
   "execution_count": 8,
   "metadata": {
    "collapsed": true
   },
   "outputs": [],
   "source": [
    "def p10(input10):\n",
    "    '''\n",
    "    input: integer\n",
    "    output: \n",
    "    '''\n",
    "    import math\n",
    "    primsum = 0\n",
    "    for xyz in range(2,input10+1):\n",
    "        root = int(math.sqrt(xyz))\n",
    "        numbers = range(2,root+1)\n",
    "        for LCM in numbers:\n",
    "            if xyz % LCM == 0:\n",
    "                break\n",
    "        else:\n",
    "            primsum += xyz\n",
    "            \n",
    "#     print(str(len(primes))+' primes under '+str(upto))\n",
    "    return primsum"
   ]
  },
  {
   "cell_type": "code",
   "execution_count": 10,
   "metadata": {},
   "outputs": [
    {
     "data": {
      "text/plain": [
       "17"
      ]
     },
     "execution_count": 10,
     "metadata": {},
     "output_type": "execute_result"
    }
   ],
   "source": [
    "p10(10) #output should be 17   ...   which is sum of 2,3,5,7"
   ]
  },
  {
   "cell_type": "code",
   "execution_count": null,
   "metadata": {
    "collapsed": true
   },
   "outputs": [],
   "source": []
  }
 ],
 "metadata": {
  "kernelspec": {
   "display_name": "Python 3",
   "language": "python",
   "name": "python3"
  },
  "language_info": {
   "codemirror_mode": {
    "name": "ipython",
    "version": 3
   },
   "file_extension": ".py",
   "mimetype": "text/x-python",
   "name": "python",
   "nbconvert_exporter": "python",
   "pygments_lexer": "ipython3",
   "version": "3.6.2"
  }
 },
 "nbformat": 4,
 "nbformat_minor": 2
}
